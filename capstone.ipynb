{
 "cells": [
  {
   "cell_type": "markdown",
   "id": "4b65ab8c",
   "metadata": {},
   "source": [
    "# Data Engineering Capstone Project\n",
    "\n",
    "## Import all necessary libraries and packages"
   ]
  },
  {
   "cell_type": "code",
   "execution_count": 1,
   "id": "03cfae1f",
   "metadata": {},
   "outputs": [],
   "source": [
    "from python_modules.etl import *\n",
    "import findspark\n",
    "findspark.init()"
   ]
  },
  {
   "cell_type": "markdown",
   "id": "0279f895",
   "metadata": {},
   "source": [
    "## Set environment variables (AWS credentials) so Spark can access the S3 buckets"
   ]
  },
  {
   "cell_type": "code",
   "execution_count": 2,
   "id": "a40a15cf",
   "metadata": {},
   "outputs": [],
   "source": [
    "set_aws_credentials('./cfg/aws_credentials.cfg')"
   ]
  },
  {
   "cell_type": "markdown",
   "id": "83204af3",
   "metadata": {},
   "source": [
    "## Initialize SparkSession instance, with hadoop-aws package to process S3 buckets"
   ]
  },
  {
   "cell_type": "code",
   "execution_count": 3,
   "id": "540c2769",
   "metadata": {},
   "outputs": [],
   "source": [
    "spark = create_spark_session()"
   ]
  },
  {
   "cell_type": "markdown",
   "id": "064f9d11",
   "metadata": {},
   "source": [
    "## Set input bucket to where the data resides in S3, and the output bucket to where we want to store the parquets"
   ]
  },
  {
   "cell_type": "code",
   "execution_count": 4,
   "id": "d1aec72f",
   "metadata": {},
   "outputs": [],
   "source": [
    "input_path = \"s3a://tung99-bucket/\"\n",
    "output_path = \"s3a://tung99-bucket/\""
   ]
  },
  {
   "cell_type": "markdown",
   "id": "a773462b",
   "metadata": {},
   "source": [
    "## Process each of the csv and json file into a DataFrame\n",
    "\n",
    "After a brief inspection on the data files, these issues have been observed:\n",
    "- Some of the entries in the ```nta_name``` column of the taxi zone lookup table contain more than one NTA name, making it impossible to match the names with the correct NTA code. To circumvent this, the problematic rows are split into identical ones using the ```/``` delimiter.\n",
    "- Similarly, some NTA names were combined by ```-``` in the ```nta_codes.json``` file, requiring the use of splitting to separate the names.\n",
    "While these fixes cannot guarantee that all location IDs will be mapped to an NTA code, it does significantly increases the number of matches (from 108 to 238 after the fixes).\n",
    "- There is an empty row in the beginning of the trips file, but it will go away as we do the ```JOIN``` operations."
   ]
  },
  {
   "cell_type": "code",
   "execution_count": 5,
   "id": "b8c44134",
   "metadata": {},
   "outputs": [],
   "source": [
    "zone_df = create_zone_df(spark, input_path)\n",
    "temp_df = create_temp_df(spark, input_path)\n",
    "trips_df = create_trips_df(spark, input_path)\n",
    "nta_df = create_nta_df(spark, input_path)"
   ]
  },
  {
   "cell_type": "markdown",
   "id": "1fd15c1c",
   "metadata": {},
   "source": [
    "### Taxi zone lookup file (this connects the location ID to an NTA name)"
   ]
  },
  {
   "cell_type": "code",
   "execution_count": 6,
   "id": "0d055e7d",
   "metadata": {},
   "outputs": [
    {
     "name": "stdout",
     "output_type": "stream",
     "text": [
      "+-----------+---------+--------------+------------+\n",
      "|location_id|boro_name|      nta_name|service_zone|\n",
      "+-----------+---------+--------------+------------+\n",
      "|          1|      EWR|Newark Airport|         EWR|\n",
      "|          2|   Queens|   Jamaica Bay|   Boro Zone|\n",
      "|          3|    Bronx|      Allerton|   Boro Zone|\n",
      "|          3|    Bronx|Pelham Gardens|   Boro Zone|\n",
      "|          4|Manhattan| Alphabet City| Yellow Zone|\n",
      "+-----------+---------+--------------+------------+\n",
      "only showing top 5 rows\n",
      "\n"
     ]
    }
   ],
   "source": [
    "zone_df.show(5)"
   ]
  },
  {
   "cell_type": "markdown",
   "id": "8d2eedab",
   "metadata": {},
   "source": [
    "### Temperature information file"
   ]
  },
  {
   "cell_type": "code",
   "execution_count": 7,
   "id": "e3037dd3",
   "metadata": {},
   "outputs": [
    {
     "name": "stdout",
     "output_type": "stream",
     "text": [
      "+---------+-----------+-------------------+----+-----------+------------+----+------------+---------+--------+-----+---+\n",
      "|sensor_id|   air_temp|               date|hour|   latitude|   longitude|year|install_type|boro_name|nta_code|month|day|\n",
      "+---------+-----------+-------------------+----+-----------+------------+----+------------+---------+--------+-----+---+\n",
      "| Bk-BR_01|     71.189|2018-06-15 00:00:00|   1|40.66620508|-73.91691035|2018| Street Tree| Brooklyn|    BK81|    6| 15|\n",
      "| Bk-BR_01|70.24333333|2018-06-15 00:00:00|   2|40.66620508|-73.91691035|2018| Street Tree| Brooklyn|    BK81|    6| 15|\n",
      "| Bk-BR_01|69.39266667|2018-06-15 00:00:00|   3|40.66620508|-73.91691035|2018| Street Tree| Brooklyn|    BK81|    6| 15|\n",
      "| Bk-BR_01|68.26316667|2018-06-15 00:00:00|   4|40.66620508|-73.91691035|2018| Street Tree| Brooklyn|    BK81|    6| 15|\n",
      "| Bk-BR_01|     67.114|2018-06-15 00:00:00|   5|40.66620508|-73.91691035|2018| Street Tree| Brooklyn|    BK81|    6| 15|\n",
      "+---------+-----------+-------------------+----+-----------+------------+----+------------+---------+--------+-----+---+\n",
      "only showing top 5 rows\n",
      "\n"
     ]
    }
   ],
   "source": [
    "temp_df.show(5)"
   ]
  },
  {
   "cell_type": "markdown",
   "id": "1f45fd17",
   "metadata": {},
   "source": [
    "### Taxi trips file. For simplicity reason, only trips happening in July 2018 were included, so a lot of assumptions will be made later on."
   ]
  },
  {
   "cell_type": "code",
   "execution_count": 8,
   "id": "76951531",
   "metadata": {},
   "outputs": [
    {
     "name": "stdout",
     "output_type": "stream",
     "text": [
      "+---------+-------------------+-------------------+---------------+-------------+-----------+------------------+--------------+--------------+------------+-----------+-----+-------+----------+------------+---------------------+------------+-----+------+------+-------+-------+\n",
      "|vendor_id|            PU_date|            DO_date|passenger_count|trip_distance|ratecode_id|store_and_fwd_flag|PU_location_id|DO_location_id|payment_type|fare_amount|extra|mta_tax|tip_amount|tolls_amount|improvement_surcharge|total_amount|month|PU_day|DO_day|PU_hour|DO_hour|\n",
      "+---------+-------------------+-------------------+---------------+-------------+-----------+------------------+--------------+--------------+------------+-----------+-----+-------+----------+------------+---------------------+------------+-----+------+------+-------+-------+\n",
      "|     null|               null|               null|           null|         null|       null|              null|          null|          null|        null|       null| null|   null|      null|        null|                 null|        null| null|  null|  null|   null|   null|\n",
      "|        1|2018-07-01 00:28:00|2018-07-01 00:28:00|              1|          5.3|          1|                 N|           145|           145|           2|        2.5|  0.5|    0.5|       0.0|         0.0|                  0.3|         3.8|    7|     1|     1|      0|      0|\n",
      "|        1|2018-07-01 00:29:00|2018-07-01 00:30:00|              1|          5.3|          1|                 N|           145|           145|           2|        2.5|  0.5|    0.5|       0.0|         0.0|                  0.3|         3.8|    7|     1|     1|      0|      0|\n",
      "|        1|2018-07-01 00:04:00|2018-07-01 00:08:00|              2|          0.7|          1|                 N|           211|           144|           1|        5.0|  0.5|    0.5|      1.25|         0.0|                  0.3|        7.55|    7|     1|     1|      0|      0|\n",
      "|        1|2018-07-01 00:14:00|2018-07-01 00:36:00|              1|          4.8|          1|                 N|           144|           142|           1|       18.0|  0.5|    0.5|       1.0|         0.0|                  0.3|        20.3|    7|     1|     1|      0|      0|\n",
      "+---------+-------------------+-------------------+---------------+-------------+-----------+------------------+--------------+--------------+------------+-----------+-----+-------+----------+------------+---------------------+------------+-----+------+------+-------+-------+\n",
      "only showing top 5 rows\n",
      "\n"
     ]
    }
   ],
   "source": [
    "trips_df.show(5)"
   ]
  },
  {
   "cell_type": "markdown",
   "id": "25b5761c",
   "metadata": {},
   "source": [
    "### Process the nta_codes.json file. The NTA names that contain ```-``` are split into separate rows, but they have the same NTA code."
   ]
  },
  {
   "cell_type": "code",
   "execution_count": 9,
   "id": "f6bbe74f",
   "metadata": {},
   "outputs": [
    {
     "name": "stdout",
     "output_type": "stream",
     "text": [
      "+---------+--------+-------------+\n",
      "|boro_name|nta_code|     nta_name|\n",
      "+---------+--------+-------------+\n",
      "| Brooklyn|    BK88| Borough Park|\n",
      "|   Queens|    QN51|  Murray Hill|\n",
      "|   Queens|    QN27|East Elmhurst|\n",
      "| Brooklyn|    BK23|West Brighton|\n",
      "|   Queens|    QN41|Fresh Meadows|\n",
      "+---------+--------+-------------+\n",
      "only showing top 5 rows\n",
      "\n"
     ]
    }
   ],
   "source": [
    "nta_df.show(5)"
   ]
  },
  {
   "cell_type": "markdown",
   "id": "e5f1a835",
   "metadata": {},
   "source": [
    "## Convert information gathered from the above DataFrames into specific tables.\n",
    "Writing to parquets should happen in this step, but to save processing time, it has been temporarily commented out in the original functions."
   ]
  },
  {
   "cell_type": "code",
   "execution_count": 10,
   "id": "8aa06231",
   "metadata": {},
   "outputs": [],
   "source": [
    "time_table = create_time_dim_table(spark, temp_df, output_path)\n",
    "trips_table = create_trips_fact_table(spark, trips_df, time_table, output_path)\n",
    "loc_table = create_loc_dim_table(spark, nta_df, zone_df, output_path)\n",
    "temps_table = create_temps_fact_table(spark, temp_df, loc_table, output_path)"
   ]
  },
  {
   "cell_type": "code",
   "execution_count": 11,
   "id": "ba435323",
   "metadata": {},
   "outputs": [
    {
     "name": "stdout",
     "output_type": "stream",
     "text": [
      "+----+-----+---+-------+----+-------+\n",
      "|year|month|day|weekday|hour|time_id|\n",
      "+----+-----+---+-------+----+-------+\n",
      "|2018|    7|  4|      4|   2|      0|\n",
      "|2018|    7|  4|      4|  17|      1|\n",
      "|2018|    7|  5|      5|  11|      2|\n",
      "|2018|    7|  6|      6|  12|      3|\n",
      "|2018|    7| 25|      4|   0|      4|\n",
      "+----+-----+---+-------+----+-------+\n",
      "only showing top 5 rows\n",
      "\n"
     ]
    }
   ],
   "source": [
    "time_table.show(5)"
   ]
  },
  {
   "cell_type": "code",
   "execution_count": 12,
   "id": "97b643ce",
   "metadata": {},
   "outputs": [
    {
     "name": "stdout",
     "output_type": "stream",
     "text": [
      "+---------+------------+-------------+---------------+-------------+--------------+--------------+------------+-----------+-----+-------+----------+------------+---------------------+------------+\n",
      "|vendor_id|  PU_date_id|   DO_date_id|passenger_count|trip_distance|PU_location_id|DO_location_id|payment_type|fare_amount|extra|mta_tax|tip_amount|tolls_amount|improvement_surcharge|total_amount|\n",
      "+---------+------------+-------------+---------------+-------------+--------------+--------------+------------+-----------+-----+-------+----------+------------+---------------------+------------+\n",
      "|        2|283467841536|1125281431552|              3|         1.28|           246|           234|           1|        7.5|  0.5|    0.5|      1.76|         0.0|                  0.3|       10.56|\n",
      "|        2| 25769803778|1125281431552|              1|         2.01|           164|            79|           2|        8.0|  0.5|    0.5|       0.0|         0.0|                  0.3|         9.3|\n",
      "|        2| 25769803778|1125281431552|              1|         2.96|            79|           230|           2|       12.0|  0.5|    0.5|       0.0|         0.0|                  0.3|        13.3|\n",
      "|        2| 25769803778|1125281431552|              1|         1.46|            68|           137|           1|        7.5|  0.5|    0.5|      1.76|         0.0|                  0.3|       10.56|\n",
      "|        2|214748364801| 214748364801|              2|        17.96|           132|           107|           1|       52.0|  0.0|    0.5|     10.56|         0.0|                  0.3|       63.36|\n",
      "+---------+------------+-------------+---------------+-------------+--------------+--------------+------------+-----------+-----+-------+----------+------------+---------------------+------------+\n",
      "only showing top 5 rows\n",
      "\n"
     ]
    }
   ],
   "source": [
    "trips_table.show(5)"
   ]
  },
  {
   "cell_type": "code",
   "execution_count": 13,
   "id": "0a6a9595",
   "metadata": {},
   "outputs": [
    {
     "name": "stdout",
     "output_type": "stream",
     "text": [
      "+-----------+-------------+--------+-------------+------------+\n",
      "|location_id|    boro_name|nta_code|     nta_name|service_zone|\n",
      "+-----------+-------------+--------+-------------+------------+\n",
      "|         26|     Brooklyn|    BK88| Borough Park|   Boro Zone|\n",
      "|        170|    Manhattan|    QN51|  Murray Hill| Yellow Zone|\n",
      "|         70|       Queens|    QN27|East Elmhurst|   Boro Zone|\n",
      "|        245|Staten Island|    BK23|West Brighton|   Boro Zone|\n",
      "|         98|       Queens|    QN41|Fresh Meadows|   Boro Zone|\n",
      "+-----------+-------------+--------+-------------+------------+\n",
      "only showing top 5 rows\n",
      "\n"
     ]
    }
   ],
   "source": [
    "loc_table.show(5)"
   ]
  },
  {
   "cell_type": "code",
   "execution_count": 14,
   "id": "ff8a3eff",
   "metadata": {},
   "outputs": [
    {
     "name": "stdout",
     "output_type": "stream",
     "text": [
      "+-------------+-----------+-----------+------------+\n",
      "|      time_id|location_id|   air_temp|install_type|\n",
      "+-------------+-----------+-----------+------------+\n",
      "|1022202216448|         75|73.18433333| Street Tree|\n",
      "|1022202216448|         75|72.95483333| Street Tree|\n",
      "|1022202216448|         75|71.95583333| Street Tree|\n",
      "|1022202216448|         75|73.24216667| Street Tree|\n",
      "|1022202216448|         75|    72.7315| Street Tree|\n",
      "+-------------+-----------+-----------+------------+\n",
      "only showing top 5 rows\n",
      "\n"
     ]
    }
   ],
   "source": [
    "temps_table.show(5)"
   ]
  },
  {
   "cell_type": "markdown",
   "id": "3e72657e",
   "metadata": {},
   "source": [
    "## Data quality checks happen after all tables have been made:\n",
    "- Since the data only comes from the month of July, there should be exactly 744 entries corresponding to 31 days of July (and each day contains 24 hours).\n",
    "- All the tables should not contain any ```NULL```s, as there was only one ```NULL``` row in the beginning, which should be eliminated after the ```JOIN``` on the ```trips``` table."
   ]
  },
  {
   "cell_type": "code",
   "execution_count": 15,
   "id": "531583d3",
   "metadata": {},
   "outputs": [
    {
     "name": "stdout",
     "output_type": "stream",
     "text": [
      "All hours are present\n",
      "No null values found.\n"
     ]
    }
   ],
   "source": [
    "if not table_rows_check(time_table, 31*24):\n",
    "    raise ValueError('Some hours are missing!')\n",
    "else:\n",
    "    print('All hours are present')\n",
    "\n",
    "table_list = [trips_table, time_table, temps_table, loc_table]\n",
    "if not null_values_check(table_list):\n",
    "    raise ValueError('Null value(s) found!')\n",
    "else:\n",
    "    print('No null values found.')"
   ]
  }
 ],
 "metadata": {
  "kernelspec": {
   "display_name": "Python 3 (ipykernel)",
   "language": "python",
   "name": "python3"
  },
  "language_info": {
   "codemirror_mode": {
    "name": "ipython",
    "version": 3
   },
   "file_extension": ".py",
   "mimetype": "text/x-python",
   "name": "python",
   "nbconvert_exporter": "python",
   "pygments_lexer": "ipython3",
   "version": "3.8.8"
  }
 },
 "nbformat": 4,
 "nbformat_minor": 5
}
