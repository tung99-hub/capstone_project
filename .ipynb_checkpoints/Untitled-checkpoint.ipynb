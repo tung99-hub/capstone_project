{
 "cells": [
  {
   "cell_type": "code",
   "execution_count": 1,
   "id": "a5796a0f",
   "metadata": {},
   "outputs": [],
   "source": [
    "import pandas as pd\n",
    "from pyspark.sql import SparkSession\n",
    "import os\n",
    "import configparser\n",
    "from pyspark.sql.functions import year, month, dayofmonth, hour, weekofyear, \\\n",
    "                            date_format, dayofweek, monotonically_increasing_id\n",
    "from pyspark.sql.types import StructType, StructField, DoubleType, StringType, \\\n",
    "                                IntegerType, DateType, TimestampType\n",
    "import pyspark.sql.functions as F"
   ]
  },
  {
   "cell_type": "code",
   "execution_count": 2,
   "id": "2ffe053a",
   "metadata": {},
   "outputs": [],
   "source": [
    "config = configparser.ConfigParser()\n",
    "config.read('aws_credentials.cfg')\n",
    "\n",
    "os.environ['AWS_ACCESS_KEY_ID'] = config['AWS']['AWS_ACCESS_KEY_ID']\n",
    "os.environ['AWS_SECRET_ACCESS_KEY'] = config['AWS']['AWS_SECRET_ACCESS_KEY']"
   ]
  },
  {
   "cell_type": "code",
   "execution_count": 3,
   "id": "35cce3a1",
   "metadata": {},
   "outputs": [
    {
     "data": {
      "text/plain": [
       "DataFrame[key: string, value: string]"
      ]
     },
     "execution_count": 3,
     "metadata": {},
     "output_type": "execute_result"
    }
   ],
   "source": [
    "spark = SparkSession \\\n",
    "        .builder \\\n",
    "        .appName('capstone') \\\n",
    "        .config(\"spark.jars.packages\", \"org.apache.hadoop:hadoop-aws:3.1.0\") \\\n",
    "        .getOrCreate()\n",
    "spark.sql(\"set spark.sql.legacy.timeParserPolicy=LEGACY\")"
   ]
  },
  {
   "cell_type": "code",
   "execution_count": 4,
   "id": "74f4d093",
   "metadata": {},
   "outputs": [],
   "source": [
    "input_data = \"s3a://tung99-bucket/\"\n",
    "\n",
    "zone_data = os.path.join(input_data, \"taxi+_zone_lookup.csv\")\n",
    "temp_data = os.path.join(input_data, \"Hyperlocal_Temperature_Monitoring.csv\")\n",
    "nta_data = os.path.join(input_data, \"nta_codes.json\")\n",
    "trips_data = os.path.join(input_data, \"yellow_tripdata_2018-07.csv\")"
   ]
  },
  {
   "cell_type": "code",
   "execution_count": 5,
   "id": "51aec1a4",
   "metadata": {},
   "outputs": [
    {
     "name": "stdout",
     "output_type": "stream",
     "text": [
      "root\n",
      " |-- location_id: integer (nullable = true)\n",
      " |-- boro_name: string (nullable = true)\n",
      " |-- nta_name: string (nullable = true)\n",
      " |-- service_zone: string (nullable = true)\n",
      "\n",
      "+-----------+-------------+--------------------+------------+\n",
      "|location_id|    boro_name|            nta_name|service_zone|\n",
      "+-----------+-------------+--------------------+------------+\n",
      "|          1|          EWR|      Newark Airport|         EWR|\n",
      "|          2|       Queens|         Jamaica Bay|   Boro Zone|\n",
      "|          3|        Bronx|Allerton/Pelham G...|   Boro Zone|\n",
      "|          4|    Manhattan|       Alphabet City| Yellow Zone|\n",
      "|          5|Staten Island|       Arden Heights|   Boro Zone|\n",
      "+-----------+-------------+--------------------+------------+\n",
      "only showing top 5 rows\n",
      "\n"
     ]
    }
   ],
   "source": [
    "zoneSchema = StructType([\n",
    "    StructField(\"location_id\", IntegerType(), nullable=False),\n",
    "    StructField(\"boro_name\", StringType(), nullable=False),\n",
    "    StructField(\"nta_name\", StringType(), nullable=False),\n",
    "    StructField(\"service_zone\", StringType(), nullable=False)\n",
    "])\n",
    "\n",
    "zone_df = spark.read.csv(zone_data, header=True, schema=zoneSchema)\n",
    "zone_df.createOrReplaceTempView(\"zones\")\n",
    "zone_df.printSchema()\n",
    "zone_df.show(5)"
   ]
  },
  {
   "cell_type": "code",
   "execution_count": 6,
   "id": "41319c3b",
   "metadata": {},
   "outputs": [
    {
     "name": "stdout",
     "output_type": "stream",
     "text": [
      "root\n",
      " |-- sensor_id: string (nullable = true)\n",
      " |-- air_temp: double (nullable = true)\n",
      " |-- date: timestamp (nullable = true)\n",
      " |-- hour: integer (nullable = true)\n",
      " |-- latitude: double (nullable = true)\n",
      " |-- longitude: double (nullable = true)\n",
      " |-- year: integer (nullable = true)\n",
      " |-- install_type: string (nullable = true)\n",
      " |-- month: integer (nullable = true)\n",
      " |-- day: integer (nullable = true)\n",
      "\n",
      "+---------+-----------+-------------------+----+-----------+------------+----+------------+-----+---+\n",
      "|sensor_id|   air_temp|               date|hour|   latitude|   longitude|year|install_type|month|day|\n",
      "+---------+-----------+-------------------+----+-----------+------------+----+------------+-----+---+\n",
      "| Bk-BR_01|     71.189|2018-06-15 00:00:00|   1|40.66620508|-73.91691035|2018| Street Tree|    6| 15|\n",
      "| Bk-BR_01|70.24333333|2018-06-15 00:00:00|   2|40.66620508|-73.91691035|2018| Street Tree|    6| 15|\n",
      "| Bk-BR_01|69.39266667|2018-06-15 00:00:00|   3|40.66620508|-73.91691035|2018| Street Tree|    6| 15|\n",
      "| Bk-BR_01|68.26316667|2018-06-15 00:00:00|   4|40.66620508|-73.91691035|2018| Street Tree|    6| 15|\n",
      "| Bk-BR_01|     67.114|2018-06-15 00:00:00|   5|40.66620508|-73.91691035|2018| Street Tree|    6| 15|\n",
      "+---------+-----------+-------------------+----+-----------+------------+----+------------+-----+---+\n",
      "only showing top 5 rows\n",
      "\n"
     ]
    }
   ],
   "source": [
    "tempSchema = StructType([\n",
    "    StructField(\"sensor_id\", StringType(), nullable=False),\n",
    "    StructField(\"air_temp\", DoubleType(), nullable=False),\n",
    "    StructField(\"date\", StringType(), nullable=False),\n",
    "    StructField(\"hour\", IntegerType(), nullable=False),\n",
    "    StructField(\"latitude\", DoubleType(), nullable=False),\n",
    "    StructField(\"longitude\", DoubleType(), nullable=False),\n",
    "    StructField(\"year\", IntegerType(), nullable=False),\n",
    "    StructField(\"install_type\", StringType(), nullable=False)\n",
    "])\n",
    "\n",
    "temp_df = spark.read.csv(temp_data, header=True, schema=tempSchema)\n",
    "temp_df = temp_df.withColumn(\"date\", F.to_timestamp(\"date\", \"M/dd/yyyy\"))\n",
    "temp_df = temp_df.withColumn(\"month\", F.month(\"date\"))\n",
    "temp_df = temp_df.withColumn(\"day\", F.dayofmonth(\"date\"))\n",
    "\n",
    "temp_df.createOrReplaceTempView(\"temperatures\")\n",
    "temp_df.printSchema()\n",
    "temp_df.show(5)"
   ]
  },
  {
   "cell_type": "code",
   "execution_count": 7,
   "id": "368eb3dc",
   "metadata": {},
   "outputs": [
    {
     "name": "stdout",
     "output_type": "stream",
     "text": [
      "+--------------------+--------------------+\n",
      "|                data|                meta|\n",
      "+--------------------+--------------------+\n",
      "|[[row-jnwt.3pd3_8...|{{[{cpf4-rkhq, 15...|\n",
      "+--------------------+--------------------+\n",
      "\n"
     ]
    }
   ],
   "source": [
    "nta_df = spark.read.json(nta_data, multiLine=True)\n",
    "nta_df.show(5)"
   ]
  },
  {
   "cell_type": "code",
   "execution_count": 8,
   "id": "c8b8f78d",
   "metadata": {},
   "outputs": [
    {
     "name": "stdout",
     "output_type": "stream",
     "text": [
      "root\n",
      " |-- vendor_id: integer (nullable = true)\n",
      " |-- PU_date: timestamp (nullable = true)\n",
      " |-- DO_date: timestamp (nullable = true)\n",
      " |-- passenger_count: integer (nullable = true)\n",
      " |-- trip_distance: double (nullable = true)\n",
      " |-- ratecode_id: integer (nullable = true)\n",
      " |-- store_and_fwd_flag: string (nullable = true)\n",
      " |-- PU_location_id: integer (nullable = true)\n",
      " |-- DO_location_id: integer (nullable = true)\n",
      " |-- payment_type: integer (nullable = true)\n",
      " |-- fare_amount: double (nullable = true)\n",
      " |-- extra: double (nullable = true)\n",
      " |-- mta_tax: double (nullable = true)\n",
      " |-- tip_amount: double (nullable = true)\n",
      " |-- tolls_amount: double (nullable = true)\n",
      " |-- improvement_surcharge: double (nullable = true)\n",
      " |-- total_amount: double (nullable = true)\n",
      " |-- month: integer (nullable = true)\n",
      " |-- PU_day: integer (nullable = true)\n",
      " |-- DO_day: integer (nullable = true)\n",
      " |-- PU_hour: integer (nullable = true)\n",
      " |-- DO_hour: integer (nullable = true)\n",
      "\n",
      "+---------+-------------------+-------------------+---------------+-------------+-----------+------------------+--------------+--------------+------------+-----------+-----+-------+----------+------------+---------------------+------------+-----+------+------+-------+-------+\n",
      "|vendor_id|            PU_date|            DO_date|passenger_count|trip_distance|ratecode_id|store_and_fwd_flag|PU_location_id|DO_location_id|payment_type|fare_amount|extra|mta_tax|tip_amount|tolls_amount|improvement_surcharge|total_amount|month|PU_day|DO_day|PU_hour|DO_hour|\n",
      "+---------+-------------------+-------------------+---------------+-------------+-----------+------------------+--------------+--------------+------------+-----------+-----+-------+----------+------------+---------------------+------------+-----+------+------+-------+-------+\n",
      "|     null|               null|               null|           null|         null|       null|              null|          null|          null|        null|       null| null|   null|      null|        null|                 null|        null| null|  null|  null|   null|   null|\n",
      "|        1|2018-07-01 00:28:00|2018-07-01 00:28:00|              1|          5.3|          1|                 N|           145|           145|           2|        2.5|  0.5|    0.5|       0.0|         0.0|                  0.3|         3.8|    7|     1|     1|      0|      0|\n",
      "|        1|2018-07-01 00:29:00|2018-07-01 00:30:00|              1|          5.3|          1|                 N|           145|           145|           2|        2.5|  0.5|    0.5|       0.0|         0.0|                  0.3|         3.8|    7|     1|     1|      0|      0|\n",
      "|        1|2018-07-01 00:04:00|2018-07-01 00:08:00|              2|          0.7|          1|                 N|           211|           144|           1|        5.0|  0.5|    0.5|      1.25|         0.0|                  0.3|        7.55|    7|     1|     1|      0|      0|\n",
      "|        1|2018-07-01 00:14:00|2018-07-01 00:36:00|              1|          4.8|          1|                 N|           144|           142|           1|       18.0|  0.5|    0.5|       1.0|         0.0|                  0.3|        20.3|    7|     1|     1|      0|      0|\n",
      "+---------+-------------------+-------------------+---------------+-------------+-----------+------------------+--------------+--------------+------------+-----------+-----+-------+----------+------------+---------------------+------------+-----+------+------+-------+-------+\n",
      "only showing top 5 rows\n",
      "\n"
     ]
    }
   ],
   "source": [
    "tripsSchema = StructType([\n",
    "    StructField(\"vendor_id\", IntegerType(), nullable=True),\n",
    "    StructField(\"PU_date\", StringType(), nullable=True),\n",
    "    StructField(\"DO_date\", StringType(), nullable=True),\n",
    "    StructField(\"passenger_count\", IntegerType(), nullable=True),\n",
    "    StructField(\"trip_distance\", DoubleType(), nullable=True),\n",
    "    StructField(\"ratecode_id\", IntegerType(), nullable=True),\n",
    "    StructField(\"store_and_fwd_flag\", StringType(), nullable=True),\n",
    "    StructField(\"PU_location_id\", IntegerType(), nullable=True),\n",
    "    StructField(\"DO_location_id\", IntegerType(), nullable=True),\n",
    "    StructField(\"payment_type\", IntegerType(), nullable=True),\n",
    "    StructField(\"fare_amount\", DoubleType(), nullable=True),\n",
    "    StructField(\"extra\", DoubleType(), nullable=True),\n",
    "    StructField(\"mta_tax\", DoubleType(), nullable=True),\n",
    "    StructField(\"tip_amount\", DoubleType(), nullable=True),\n",
    "    StructField(\"tolls_amount\", DoubleType(), nullable=True),\n",
    "    StructField(\"improvement_surcharge\", DoubleType(), nullable=True),\n",
    "    StructField(\"total_amount\", DoubleType(), nullable=True)\n",
    "])\n",
    "\n",
    "trips_df = spark.read.csv(trips_data, header=True, schema=tripsSchema)\n",
    "trips_df = trips_df.withColumn(\"PU_date\", F.to_timestamp(\"PU_date\", \"M/d/yyyy H:mm\"))\n",
    "trips_df = trips_df.withColumn(\"DO_date\", F.to_timestamp(\"DO_date\", \"M/d/yyyy H:mm\"))\n",
    "trips_df = trips_df.withColumn(\"month\", F.month(\"PU_date\"))\n",
    "trips_df = trips_df.withColumn(\"PU_day\", F.dayofmonth(\"PU_date\"))\n",
    "trips_df = trips_df.withColumn(\"DO_day\", F.dayofmonth(\"DO_date\"))\n",
    "trips_df = trips_df.withColumn(\"PU_hour\", F.hour(\"PU_date\"))\n",
    "trips_df = trips_df.withColumn(\"DO_hour\", F.hour(\"DO_date\"))\n",
    "\n",
    "trips_df.createOrReplaceTempView(\"trips\")\n",
    "trips_df.printSchema()\n",
    "trips_df.show(5)"
   ]
  },
  {
   "cell_type": "code",
   "execution_count": 9,
   "id": "4b84f7ff",
   "metadata": {},
   "outputs": [
    {
     "name": "stdout",
     "output_type": "stream",
     "text": [
      "+-----+---+-------+----+----------+\n",
      "|month|day|weekday|hour|   time_id|\n",
      "+-----+---+-------+----+----------+\n",
      "|    7| 14|      7|   0|         0|\n",
      "|    7| 25|      4|   8|         1|\n",
      "|    7| 29|      1|   5|         2|\n",
      "|    7| 17|      3|  10|8589934592|\n",
      "|    7| 22|      1|   0|8589934593|\n",
      "+-----+---+-------+----+----------+\n",
      "only showing top 5 rows\n",
      "\n"
     ]
    }
   ],
   "source": [
    "time_table = spark.sql('''\n",
    "    SELECT month(date) AS month, dayofmonth(date) AS day, dayofweek(date) AS weekday, hour\n",
    "    FROM temperatures\n",
    "    WHERE year(date)=2018 AND month(date)=7\n",
    "''').distinct().withColumn('time_id', monotonically_increasing_id())\n",
    "\n",
    "time_table.createOrReplaceTempView(\"times\")\n",
    "time_table.show(5)"
   ]
  },
  {
   "cell_type": "code",
   "execution_count": 10,
   "id": "fb0d8926",
   "metadata": {},
   "outputs": [
    {
     "name": "stdout",
     "output_type": "stream",
     "text": [
      "+------------+-----------+------------+\n",
      "|     time_id|   air_temp|install_type|\n",
      "+------------+-----------+------------+\n",
      "|901943132162|72.53066667| Street Tree|\n",
      "|901943132162|     73.948| Street Tree|\n",
      "|901943132162|71.49733333|  Light Pole|\n",
      "|901943132162|73.32866667| Street Tree|\n",
      "|901943132162|72.09316667|  Light Pole|\n",
      "+------------+-----------+------------+\n",
      "only showing top 5 rows\n",
      "\n"
     ]
    }
   ],
   "source": [
    "temps_table = spark.sql('''\n",
    "    SELECT times.time_id, t.air_temp, t.install_type\n",
    "    FROM temperatures t\n",
    "    JOIN times ON times.month=t.month AND times.day=t.day AND times.hour=t.hour\n",
    "''')\n",
    "\n",
    "temps_table.show(5)"
   ]
  },
  {
   "cell_type": "code",
   "execution_count": 11,
   "id": "429f347e",
   "metadata": {},
   "outputs": [
    {
     "name": "stdout",
     "output_type": "stream",
     "text": [
      "+---------+-------------+-------------+---------------+-------------+--------------+--------------+------------+-----------+-----+-------+----------+------------+---------------------+------------+\n",
      "|vendor_id|   PU_date_id|   DO_date_id|passenger_count|trip_distance|PU_location_id|DO_location_id|payment_type|fare_amount|extra|mta_tax|tip_amount|tolls_amount|improvement_surcharge|total_amount|\n",
      "+---------+-------------+-------------+---------------+-------------+--------------+--------------+------------+-----------+-----+-------+----------+------------+---------------------+------------+\n",
      "|        2|1322849927169|1039382085634|              3|         1.28|           246|           234|           1|        7.5|  0.5|    0.5|      1.76|         0.0|                  0.3|       10.56|\n",
      "|        2|1262720385024|1039382085634|              1|         2.01|           164|            79|           2|        8.0|  0.5|    0.5|       0.0|         0.0|                  0.3|         9.3|\n",
      "|        2|1262720385024|1039382085634|              1|         2.96|            79|           230|           2|       12.0|  0.5|    0.5|       0.0|         0.0|                  0.3|        13.3|\n",
      "|        2|1262720385024|1039382085634|              1|         1.46|            68|           137|           1|        7.5|  0.5|    0.5|      1.76|         0.0|                  0.3|       10.56|\n",
      "|        2| 300647710720| 300647710720|              2|        17.96|           132|           107|           1|       52.0|  0.0|    0.5|     10.56|         0.0|                  0.3|       63.36|\n",
      "+---------+-------------+-------------+---------------+-------------+--------------+--------------+------------+-----------+-----+-------+----------+------------+---------------------+------------+\n",
      "only showing top 5 rows\n",
      "\n"
     ]
    }
   ],
   "source": [
    "trips_table = spark.sql('''\n",
    "    SELECT vendor_id, times.time_id AS PU_date_id, DO_day, t.month, \n",
    "            DO_hour, passenger_count, trip_distance, PU_location_id, \n",
    "            DO_location_id, payment_type, fare_amount, extra, mta_tax,\n",
    "            tip_amount, tolls_amount, improvement_surcharge, total_amount\n",
    "    FROM trips t\n",
    "    JOIN times ON t.PU_day=times.day AND t.month=times.month AND t.PU_hour=times.hour\n",
    "''')\n",
    "\n",
    "trips_table.createOrReplaceTempView(\"trips\")\n",
    "trips_table = spark.sql('''\n",
    "    SELECT vendor_id, PU_date_id, times.time_id AS DO_date_id, passenger_count, \n",
    "            trip_distance, PU_location_id, DO_location_id, payment_type, \n",
    "            fare_amount, extra, mta_tax, tip_amount, tolls_amount, \n",
    "            improvement_surcharge, total_amount\n",
    "    FROM trips t\n",
    "    JOIN times ON t.DO_day=times.day AND t.month=times.month AND t.DO_hour=times.hour\n",
    "''')\n",
    "\n",
    "trips_table.show(5)"
   ]
  },
  {
   "cell_type": "code",
   "execution_count": 14,
   "id": "7b835bfd",
   "metadata": {},
   "outputs": [
    {
     "name": "stdout",
     "output_type": "stream",
     "text": [
      "+-----------+-------------+--------------------+------------+\n",
      "|location_id|    boro_name|            nta_name|service_zone|\n",
      "+-----------+-------------+--------------------+------------+\n",
      "|          1|          EWR|      Newark Airport|         EWR|\n",
      "|          2|       Queens|         Jamaica Bay|   Boro Zone|\n",
      "|          3|        Bronx|Allerton/Pelham G...|   Boro Zone|\n",
      "|          4|    Manhattan|       Alphabet City| Yellow Zone|\n",
      "|          5|Staten Island|       Arden Heights|   Boro Zone|\n",
      "+-----------+-------------+--------------------+------------+\n",
      "only showing top 5 rows\n",
      "\n"
     ]
    }
   ],
   "source": [
    "loc_table = spark.sql('''\n",
    "    SELECT location_id, boro_name, nta_name, service_zone\n",
    "    FROM zones\n",
    "''')\n",
    "\n",
    "loc_table.show(5)"
   ]
  },
  {
   "cell_type": "code",
   "execution_count": null,
   "id": "109e7866",
   "metadata": {},
   "outputs": [],
   "source": []
  }
 ],
 "metadata": {
  "kernelspec": {
   "display_name": "Python 3 (ipykernel)",
   "language": "python",
   "name": "python3"
  },
  "language_info": {
   "codemirror_mode": {
    "name": "ipython",
    "version": 3
   },
   "file_extension": ".py",
   "mimetype": "text/x-python",
   "name": "python",
   "nbconvert_exporter": "python",
   "pygments_lexer": "ipython3",
   "version": "3.8.8"
  }
 },
 "nbformat": 4,
 "nbformat_minor": 5
}
